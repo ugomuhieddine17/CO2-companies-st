{
 "cells": [
  {
   "cell_type": "markdown",
   "id": "78ef8709-3c28-4ff8-801c-5da329f4125f",
   "metadata": {
    "tags": []
   },
   "source": [
    "# BEGES des entreprises"
   ]
  },
  {
   "cell_type": "markdown",
   "id": "74d36f1d-0d12-41c8-bdec-69ca345ed56d",
   "metadata": {
    "tags": []
   },
   "source": [
    "## Importation et doc Excel"
   ]
  },
  {
   "cell_type": "code",
   "execution_count": 2,
   "id": "a5913eef-bf1d-4232-9697-455e6776d8b7",
   "metadata": {},
   "outputs": [],
   "source": [
    "import numpy as np\n",
    "import pandas as pd\n",
    "import matplotlib.pyplot as plt\n",
    "import seaborn as sns\n",
    "\n",
    "# import streamlit as st\n",
    "# import streamlit.components.v1 as components\n",
    "\n",
    "import altair as alt\n",
    "from altair import expr, datum\n",
    "import itertools "
   ]
  },
  {
   "cell_type": "code",
   "execution_count": 3,
   "id": "343cba76-1885-4155-91d7-8a809000d27c",
   "metadata": {},
   "outputs": [],
   "source": [
    "file_name =  \"./data/bilans-ges.xls\"\n",
    "\n",
    "df_assess = pd.read_excel(io=file_name, sheet_name=\"assessments\")\n",
    "df_emissions = pd.read_excel(io=file_name, sheet_name=\"Détail émissions\")\n",
    "df_postes = pd.read_excel(io=file_name, sheet_name=\"Postes\")\n",
    "df_scopes = pd.read_excel(io=file_name, sheet_name=\"Scopes\")\n",
    "df_descriptions = pd.read_excel(io=file_name, sheet_name=\"Descriptions\")\n",
    "df_emission_bilan = pd.read_excel(io=file_name, sheet_name=\"assessment_bilan\")\n",
    "df_reduction_bilan = pd.read_excel(io=file_name, sheet_name=\"assessment_reduction\")"
   ]
  },
  {
   "cell_type": "code",
   "execution_count": 4,
   "id": "316727d0",
   "metadata": {},
   "outputs": [],
   "source": [
    "#PROCESS\n",
    "# dico scope et poste\n",
    "dico_postes = {x.id:x.label for (idx, x) in df_postes.iterrows()}\n",
    "dico_scopes = {x.Scope:x.Description for (idx, x) in df_scopes.iterrows()}\n",
    "dico_postes_to_scopes = {x.id:x.scope_id for (idx, x) in df_postes.iterrows()}\n",
    "\n",
    "# process generally the data\n",
    "#DF EMISSIONS\n",
    "df_emissions = df_emissions.rename(columns={'scope_item_id':'poste_item_id'})\n",
    "df_emissions[['total', 'co2_biogenic']] = df_emissions[['total', 'co2_biogenic']].fillna(0)\n",
    "df_emissions['poste_item'] = df_emissions.poste_item_id.map(dico_postes)\n",
    "df_emissions['scope_item'] = df_emissions.poste_item_id.map(dico_postes_to_scopes)\n",
    "\n",
    "#DF REDUCTION BILAN\n",
    "\n",
    "df_reduction_bilan[['reductions_scope_1_2', 'reductions_scope_1', 'reductions_scope_2',\n",
    "       'reductions_scope_3']] = df_reduction_bilan[['reductions_scope_1_2', 'reductions_scope_1', 'reductions_scope_2',\n",
    "       'reductions_scope_3']].fillna(0)"
   ]
  },
  {
   "cell_type": "code",
   "execution_count": 9,
   "id": "e921203c-6c50-4dbd-b139-8820ddaa325a",
   "metadata": {},
   "outputs": [
    {
     "name": "stdout",
     "output_type": "stream",
     "text": [
      "Reported year: 2015\n",
      "Plan d'action Scope 1\n",
      " \n",
      "\t\t\t\t\t\t\t\t\n",
      "\t\t\t\t\tLe volume de réduction attendu pour le scope 1 est de 99999.9 tCO2e\t\t\t\t\t        \t\t   \n",
      "\t\t\t\t\t\t\t \n",
      " Priorité 1 : (Eviter) Amélioration du confinement des circuits frigorifiques existants. \n",
      " Priorité 2 : (Réduire) Réduction de la charge initiale en HFC sur toutes les installations neuves \n",
      " Priorité 3 : (Eviter) Mise en service d'installations transcritiques et de groupes au propane. \n",
      "Has a plan\n",
      "Ratio of reduced emission: 0.22 %\n"
     ]
    }
   ],
   "source": [
    "#INFO TO FILL\n",
    "selected_organization_name = \"Casino, Guichard Perrachon\"\n",
    "\n",
    "#GENERAL INFO \n",
    "loc_info = df_assess[df_assess.organization_name == selected_organization_name]\n",
    "loc_assess_id = loc_info.id.values[0]\n",
    "loc_reporting_year = df_emission_bilan[df_emission_bilan.assessment_id == loc_assess_id].reporting_year.values[0]\n",
    "print(f'Reported year: {loc_reporting_year}')\n",
    "\n",
    "#DESCRIPTION\n",
    "loc_description  = df_descriptions[df_descriptions.assessment_id == loc_assess_id].copy()\n",
    "loc_description_potentiel = loc_description.key.tolist()\n",
    "selected_descrip = loc_description_potentiel[0] #TO SELECT BY THE USER IN THEORY\n",
    "\n",
    "loc_descrip_to_print = loc_description[loc_description.key == selected_descrip].value.values[0]\n",
    "print(selected_descrip)\n",
    "print(loc_descrip_to_print)\n",
    "\n",
    "#EMISSION\n",
    "loc_emission = df_emissions[df_emissions.assessment_id == loc_assess_id]\n",
    "\n",
    "loc_chart_poste_emission = alt.Chart(loc_emission).mark_bar().encode(\n",
    "        x='poste_item_id',\n",
    "        y='total:Q',\n",
    "        color='scope_item:N',\n",
    "        tooltip=[\n",
    "            alt.Tooltip('poste_item', title='scope_item'),\n",
    "        ]\n",
    "        ).properties(\n",
    "                width=500,\n",
    "                height=300\n",
    "                )\n",
    "loc_total_emissions = loc_emission.total.sum()\n",
    "\n",
    "\n",
    "#REDUCTION\n",
    "loc_reduc_bilan = df_reduction_bilan[df_reduction_bilan.id == loc_assess_id].copy()\n",
    "loc_has_plan = loc_reduc_bilan.action_plan.values[0] == 'Oui'\n",
    "if loc_has_plan:\n",
    "    print('Has a plan')\n",
    "else:\n",
    "    print('Has NOT a plan')\n",
    "\n",
    "loc_reduc_bilan = loc_reduc_bilan[['id', 'reductions_scope_1_2', 'reductions_scope_1', 'reductions_scope_2',\n",
    "       'reductions_scope_3']].melt(id_vars='id')\n",
    "\n",
    "loc_reduced_emission = loc_reduc_bilan.value.sum()\n",
    "print(f'Ratio of reduced emission: {loc_reduced_emission/loc_total_emissions:.2f} %')\n",
    "\n",
    "loc_chart_reduced_emission = alt.Chart(loc_reduc_bilan).mark_bar().encode(\n",
    "        x=alt.X('variable:N'),\n",
    "        y='value:Q',\n",
    "        ).properties(\n",
    "                width=500,\n",
    "                height=300\n",
    "                )"
   ]
  },
  {
   "cell_type": "code",
   "execution_count": 13,
   "id": "8c81aee0",
   "metadata": {},
   "outputs": [
    {
     "data": {
      "text/html": [
       "<div>\n",
       "<style scoped>\n",
       "    .dataframe tbody tr th:only-of-type {\n",
       "        vertical-align: middle;\n",
       "    }\n",
       "\n",
       "    .dataframe tbody tr th {\n",
       "        vertical-align: top;\n",
       "    }\n",
       "\n",
       "    .dataframe thead th {\n",
       "        text-align: right;\n",
       "    }\n",
       "</style>\n",
       "<table border=\"1\" class=\"dataframe\">\n",
       "  <thead>\n",
       "    <tr style=\"text-align: right;\">\n",
       "      <th></th>\n",
       "      <th>id</th>\n",
       "      <th>organization_name</th>\n",
       "      <th>organization_description</th>\n",
       "      <th>organization_type</th>\n",
       "      <th>collectivity_type</th>\n",
       "      <th>staff</th>\n",
       "      <th>population</th>\n",
       "      <th>consolidation_method</th>\n",
       "      <th>source_url</th>\n",
       "    </tr>\n",
       "  </thead>\n",
       "  <tbody>\n",
       "    <tr>\n",
       "      <th>721</th>\n",
       "      <td>1286</td>\n",
       "      <td>Casino, Guichard Perrachon</td>\n",
       "      <td>Grande distribution (magasins + entrepots + se...</td>\n",
       "      <td>Entreprise</td>\n",
       "      <td>NaN</td>\n",
       "      <td>74805.0</td>\n",
       "      <td>NaN</td>\n",
       "      <td>Opérationnel</td>\n",
       "      <td>http://www.bilans-ges.ademe.fr/fr/bilanenligne...</td>\n",
       "    </tr>\n",
       "  </tbody>\n",
       "</table>\n",
       "</div>"
      ],
      "text/plain": [
       "       id           organization_name  \\\n",
       "721  1286  Casino, Guichard Perrachon   \n",
       "\n",
       "                              organization_description organization_type  \\\n",
       "721  Grande distribution (magasins + entrepots + se...        Entreprise   \n",
       "\n",
       "    collectivity_type    staff  population consolidation_method  \\\n",
       "721               NaN  74805.0         NaN         Opérationnel   \n",
       "\n",
       "                                            source_url  \n",
       "721  http://www.bilans-ges.ademe.fr/fr/bilanenligne...  "
      ]
     },
     "execution_count": 13,
     "metadata": {},
     "output_type": "execute_result"
    }
   ],
   "source": [
    "loc_info#.organization_description.values[0]"
   ]
  },
  {
   "cell_type": "code",
   "execution_count": 148,
   "id": "26500a6e",
   "metadata": {},
   "outputs": [
    {
     "data": {
      "text/html": [
       "<div>\n",
       "<style scoped>\n",
       "    .dataframe tbody tr th:only-of-type {\n",
       "        vertical-align: middle;\n",
       "    }\n",
       "\n",
       "    .dataframe tbody tr th {\n",
       "        vertical-align: top;\n",
       "    }\n",
       "\n",
       "    .dataframe thead th {\n",
       "        text-align: right;\n",
       "    }\n",
       "</style>\n",
       "<table border=\"1\" class=\"dataframe\">\n",
       "  <thead>\n",
       "    <tr style=\"text-align: right;\">\n",
       "      <th></th>\n",
       "      <th>id</th>\n",
       "      <th>variable</th>\n",
       "      <th>value</th>\n",
       "    </tr>\n",
       "  </thead>\n",
       "  <tbody>\n",
       "    <tr>\n",
       "      <th>0</th>\n",
       "      <td>15</td>\n",
       "      <td>reductions_scope_1_2</td>\n",
       "      <td>NaN</td>\n",
       "    </tr>\n",
       "    <tr>\n",
       "      <th>1</th>\n",
       "      <td>15</td>\n",
       "      <td>reductions_scope_1</td>\n",
       "      <td>NaN</td>\n",
       "    </tr>\n",
       "    <tr>\n",
       "      <th>2</th>\n",
       "      <td>15</td>\n",
       "      <td>reductions_scope_2</td>\n",
       "      <td>NaN</td>\n",
       "    </tr>\n",
       "    <tr>\n",
       "      <th>3</th>\n",
       "      <td>15</td>\n",
       "      <td>reductions_scope_3</td>\n",
       "      <td>NaN</td>\n",
       "    </tr>\n",
       "  </tbody>\n",
       "</table>\n",
       "</div>"
      ],
      "text/plain": [
       "   id              variable  value\n",
       "0  15  reductions_scope_1_2    NaN\n",
       "1  15    reductions_scope_1    NaN\n",
       "2  15    reductions_scope_2    NaN\n",
       "3  15    reductions_scope_3    NaN"
      ]
     },
     "execution_count": 148,
     "metadata": {},
     "output_type": "execute_result"
    }
   ],
   "source": [
    "loc_reduc_bilan[['id', 'reductions_scope_1_2', 'reductions_scope_1', 'reductions_scope_2',\n",
    "       'reductions_scope_3']].melt(id_vars='id')"
   ]
  },
  {
   "cell_type": "code",
   "execution_count": 133,
   "id": "db0f1e16",
   "metadata": {},
   "outputs": [
    {
     "data": {
      "text/plain": [
       "True"
      ]
     },
     "execution_count": 133,
     "metadata": {},
     "output_type": "execute_result"
    }
   ],
   "source": [
    "np.isnan(loc_reduc_bilan.reductions_scope_1_2.values[0])"
   ]
  },
  {
   "cell_type": "code",
   "execution_count": 134,
   "id": "b5113606",
   "metadata": {},
   "outputs": [
    {
     "data": {
      "text/html": [
       "<div>\n",
       "<style scoped>\n",
       "    .dataframe tbody tr th:only-of-type {\n",
       "        vertical-align: middle;\n",
       "    }\n",
       "\n",
       "    .dataframe tbody tr th {\n",
       "        vertical-align: top;\n",
       "    }\n",
       "\n",
       "    .dataframe thead th {\n",
       "        text-align: right;\n",
       "    }\n",
       "</style>\n",
       "<table border=\"1\" class=\"dataframe\">\n",
       "  <thead>\n",
       "    <tr style=\"text-align: right;\">\n",
       "      <th></th>\n",
       "      <th>id</th>\n",
       "      <th>reporting_year</th>\n",
       "      <th>reference_year</th>\n",
       "      <th>action_plan</th>\n",
       "      <th>reductions_scope_1_2</th>\n",
       "      <th>reductions_scope_1</th>\n",
       "      <th>reductions_scope_2</th>\n",
       "      <th>reductions_scope_3</th>\n",
       "    </tr>\n",
       "  </thead>\n",
       "  <tbody>\n",
       "    <tr>\n",
       "      <th>14</th>\n",
       "      <td>15</td>\n",
       "      <td>2011</td>\n",
       "      <td>NaN</td>\n",
       "      <td>Non</td>\n",
       "      <td>NaN</td>\n",
       "      <td>NaN</td>\n",
       "      <td>NaN</td>\n",
       "      <td>NaN</td>\n",
       "    </tr>\n",
       "  </tbody>\n",
       "</table>\n",
       "</div>"
      ],
      "text/plain": [
       "    id  reporting_year  reference_year action_plan  reductions_scope_1_2  \\\n",
       "14  15            2011             NaN         Non                   NaN   \n",
       "\n",
       "    reductions_scope_1  reductions_scope_2  reductions_scope_3  \n",
       "14                 NaN                 NaN                 NaN  "
      ]
     },
     "execution_count": 134,
     "metadata": {},
     "output_type": "execute_result"
    }
   ],
   "source": [
    "loc_reduc_bilan"
   ]
  },
  {
   "cell_type": "code",
   "execution_count": 128,
   "id": "2ffa0300",
   "metadata": {},
   "outputs": [
    {
     "data": {
      "text/plain": [
       "array(['Oui', 'Non'], dtype=object)"
      ]
     },
     "execution_count": 128,
     "metadata": {},
     "output_type": "execute_result"
    }
   ],
   "source": [
    "df_reduction_bilan.action_plan.unique()#[df_reduction_bilan.id == loc_assess_id]"
   ]
  },
  {
   "cell_type": "code",
   "execution_count": 90,
   "id": "fcef32b3",
   "metadata": {},
   "outputs": [
    {
     "data": {
      "text/html": [
       "<div>\n",
       "<style scoped>\n",
       "    .dataframe tbody tr th:only-of-type {\n",
       "        vertical-align: middle;\n",
       "    }\n",
       "\n",
       "    .dataframe tbody tr th {\n",
       "        vertical-align: top;\n",
       "    }\n",
       "\n",
       "    .dataframe thead th {\n",
       "        text-align: right;\n",
       "    }\n",
       "</style>\n",
       "<table border=\"1\" class=\"dataframe\">\n",
       "  <thead>\n",
       "    <tr style=\"text-align: right;\">\n",
       "      <th></th>\n",
       "      <th>assessment_id</th>\n",
       "      <th>type</th>\n",
       "      <th>scope_item_id</th>\n",
       "      <th>co2</th>\n",
       "      <th>ch4</th>\n",
       "      <th>n2o</th>\n",
       "      <th>other</th>\n",
       "      <th>total</th>\n",
       "      <th>co2_biogenic</th>\n",
       "      <th>scope_item</th>\n",
       "    </tr>\n",
       "  </thead>\n",
       "  <tbody>\n",
       "    <tr>\n",
       "      <th>55956</th>\n",
       "      <td>7071</td>\n",
       "      <td>Déclaration</td>\n",
       "      <td>1</td>\n",
       "      <td>2621.0</td>\n",
       "      <td>0.0</td>\n",
       "      <td>0.0</td>\n",
       "      <td>0.0</td>\n",
       "      <td>2621.0</td>\n",
       "      <td>0.0</td>\n",
       "      <td>Emissions directes des sources fixes de combus...</td>\n",
       "    </tr>\n",
       "    <tr>\n",
       "      <th>55957</th>\n",
       "      <td>7071</td>\n",
       "      <td>Déclaration</td>\n",
       "      <td>2</td>\n",
       "      <td>2639.0</td>\n",
       "      <td>0.0</td>\n",
       "      <td>0.0</td>\n",
       "      <td>0.0</td>\n",
       "      <td>2639.0</td>\n",
       "      <td>0.0</td>\n",
       "      <td>Emissions directes des sources mobiles à moteu...</td>\n",
       "    </tr>\n",
       "    <tr>\n",
       "      <th>55958</th>\n",
       "      <td>7071</td>\n",
       "      <td>Déclaration</td>\n",
       "      <td>3</td>\n",
       "      <td>0.0</td>\n",
       "      <td>0.0</td>\n",
       "      <td>0.0</td>\n",
       "      <td>0.0</td>\n",
       "      <td>0.0</td>\n",
       "      <td>0.0</td>\n",
       "      <td>Emissions directes des procédés hors énergie</td>\n",
       "    </tr>\n",
       "    <tr>\n",
       "      <th>55959</th>\n",
       "      <td>7071</td>\n",
       "      <td>Déclaration</td>\n",
       "      <td>4</td>\n",
       "      <td>4.0</td>\n",
       "      <td>0.0</td>\n",
       "      <td>0.0</td>\n",
       "      <td>0.0</td>\n",
       "      <td>4.0</td>\n",
       "      <td>0.0</td>\n",
       "      <td>Emissions directes fugitives</td>\n",
       "    </tr>\n",
       "    <tr>\n",
       "      <th>55960</th>\n",
       "      <td>7071</td>\n",
       "      <td>Déclaration</td>\n",
       "      <td>5</td>\n",
       "      <td>0.0</td>\n",
       "      <td>0.0</td>\n",
       "      <td>0.0</td>\n",
       "      <td>0.0</td>\n",
       "      <td>0.0</td>\n",
       "      <td>0.0</td>\n",
       "      <td>Emissions issues de la biomasse (sols et forêts)</td>\n",
       "    </tr>\n",
       "    <tr>\n",
       "      <th>55961</th>\n",
       "      <td>7071</td>\n",
       "      <td>Déclaration</td>\n",
       "      <td>6</td>\n",
       "      <td>NaN</td>\n",
       "      <td>NaN</td>\n",
       "      <td>NaN</td>\n",
       "      <td>NaN</td>\n",
       "      <td>44.0</td>\n",
       "      <td>0.0</td>\n",
       "      <td>Emissions indirectes liées à la consommation d...</td>\n",
       "    </tr>\n",
       "    <tr>\n",
       "      <th>55962</th>\n",
       "      <td>7071</td>\n",
       "      <td>Déclaration</td>\n",
       "      <td>7</td>\n",
       "      <td>NaN</td>\n",
       "      <td>NaN</td>\n",
       "      <td>NaN</td>\n",
       "      <td>NaN</td>\n",
       "      <td>0.0</td>\n",
       "      <td>0.0</td>\n",
       "      <td>Emissions indirectes liées à la consommation d...</td>\n",
       "    </tr>\n",
       "  </tbody>\n",
       "</table>\n",
       "</div>"
      ],
      "text/plain": [
       "       assessment_id         type  scope_item_id     co2  ch4  n2o  other  \\\n",
       "55956           7071  Déclaration              1  2621.0  0.0  0.0    0.0   \n",
       "55957           7071  Déclaration              2  2639.0  0.0  0.0    0.0   \n",
       "55958           7071  Déclaration              3     0.0  0.0  0.0    0.0   \n",
       "55959           7071  Déclaration              4     4.0  0.0  0.0    0.0   \n",
       "55960           7071  Déclaration              5     0.0  0.0  0.0    0.0   \n",
       "55961           7071  Déclaration              6     NaN  NaN  NaN    NaN   \n",
       "55962           7071  Déclaration              7     NaN  NaN  NaN    NaN   \n",
       "\n",
       "        total  co2_biogenic                                         scope_item  \n",
       "55956  2621.0           0.0  Emissions directes des sources fixes de combus...  \n",
       "55957  2639.0           0.0  Emissions directes des sources mobiles à moteu...  \n",
       "55958     0.0           0.0       Emissions directes des procédés hors énergie  \n",
       "55959     4.0           0.0                       Emissions directes fugitives  \n",
       "55960     0.0           0.0   Emissions issues de la biomasse (sols et forêts)  \n",
       "55961    44.0           0.0  Emissions indirectes liées à la consommation d...  \n",
       "55962     0.0           0.0  Emissions indirectes liées à la consommation d...  "
      ]
     },
     "execution_count": 90,
     "metadata": {},
     "output_type": "execute_result"
    }
   ],
   "source": [
    "loc_emission"
   ]
  },
  {
   "cell_type": "code",
   "execution_count": 89,
   "id": "39bcae0e",
   "metadata": {},
   "outputs": [
    {
     "data": {
      "text/html": [
       "\n",
       "<div id=\"altair-viz-761e935e25b044d5bd6eb834e8bf201e\"></div>\n",
       "<script type=\"text/javascript\">\n",
       "  var VEGA_DEBUG = (typeof VEGA_DEBUG == \"undefined\") ? {} : VEGA_DEBUG;\n",
       "  (function(spec, embedOpt){\n",
       "    let outputDiv = document.currentScript.previousElementSibling;\n",
       "    if (outputDiv.id !== \"altair-viz-761e935e25b044d5bd6eb834e8bf201e\") {\n",
       "      outputDiv = document.getElementById(\"altair-viz-761e935e25b044d5bd6eb834e8bf201e\");\n",
       "    }\n",
       "    const paths = {\n",
       "      \"vega\": \"https://cdn.jsdelivr.net/npm//vega@5?noext\",\n",
       "      \"vega-lib\": \"https://cdn.jsdelivr.net/npm//vega-lib?noext\",\n",
       "      \"vega-lite\": \"https://cdn.jsdelivr.net/npm//vega-lite@4.17.0?noext\",\n",
       "      \"vega-embed\": \"https://cdn.jsdelivr.net/npm//vega-embed@6?noext\",\n",
       "    };\n",
       "\n",
       "    function maybeLoadScript(lib, version) {\n",
       "      var key = `${lib.replace(\"-\", \"\")}_version`;\n",
       "      return (VEGA_DEBUG[key] == version) ?\n",
       "        Promise.resolve(paths[lib]) :\n",
       "        new Promise(function(resolve, reject) {\n",
       "          var s = document.createElement('script');\n",
       "          document.getElementsByTagName(\"head\")[0].appendChild(s);\n",
       "          s.async = true;\n",
       "          s.onload = () => {\n",
       "            VEGA_DEBUG[key] = version;\n",
       "            return resolve(paths[lib]);\n",
       "          };\n",
       "          s.onerror = () => reject(`Error loading script: ${paths[lib]}`);\n",
       "          s.src = paths[lib];\n",
       "        });\n",
       "    }\n",
       "\n",
       "    function showError(err) {\n",
       "      outputDiv.innerHTML = `<div class=\"error\" style=\"color:red;\">${err}</div>`;\n",
       "      throw err;\n",
       "    }\n",
       "\n",
       "    function displayChart(vegaEmbed) {\n",
       "      vegaEmbed(outputDiv, spec, embedOpt)\n",
       "        .catch(err => showError(`Javascript Error: ${err.message}<br>This usually means there's a typo in your chart specification. See the javascript console for the full traceback.`));\n",
       "    }\n",
       "\n",
       "    if(typeof define === \"function\" && define.amd) {\n",
       "      requirejs.config({paths});\n",
       "      require([\"vega-embed\"], displayChart, err => showError(`Error loading script: ${err.message}`));\n",
       "    } else {\n",
       "      maybeLoadScript(\"vega\", \"5\")\n",
       "        .then(() => maybeLoadScript(\"vega-lite\", \"4.17.0\"))\n",
       "        .then(() => maybeLoadScript(\"vega-embed\", \"6\"))\n",
       "        .catch(showError)\n",
       "        .then(() => displayChart(vegaEmbed));\n",
       "    }\n",
       "  })({\"config\": {\"view\": {\"continuousWidth\": 400, \"continuousHeight\": 300}}, \"data\": {\"name\": \"data-3b8de6d5d992cd67158aeb7743ee4330\"}, \"mark\": \"bar\", \"encoding\": {\"tooltip\": [{\"field\": \"scope_item\", \"title\": \"scope_item\", \"type\": \"nominal\"}], \"x\": {\"field\": \"scope_item_id\", \"type\": \"quantitative\"}, \"y\": {\"field\": \"total\", \"type\": \"quantitative\"}}, \"height\": 300, \"width\": 500, \"$schema\": \"https://vega.github.io/schema/vega-lite/v4.17.0.json\", \"datasets\": {\"data-3b8de6d5d992cd67158aeb7743ee4330\": [{\"assessment_id\": 7071, \"type\": \"D\\u00e9claration\", \"scope_item_id\": 1, \"co2\": 2621.0, \"ch4\": 0.0, \"n2o\": 0.0, \"other\": 0.0, \"total\": 2621.0, \"co2_biogenic\": 0.0, \"scope_item\": \"Emissions directes des sources fixes de combustion\"}, {\"assessment_id\": 7071, \"type\": \"D\\u00e9claration\", \"scope_item_id\": 2, \"co2\": 2639.0, \"ch4\": 0.0, \"n2o\": 0.0, \"other\": 0.0, \"total\": 2639.0, \"co2_biogenic\": 0.0, \"scope_item\": \"Emissions directes des sources mobiles \\u00e0 moteur thermique\"}, {\"assessment_id\": 7071, \"type\": \"D\\u00e9claration\", \"scope_item_id\": 3, \"co2\": 0.0, \"ch4\": 0.0, \"n2o\": 0.0, \"other\": 0.0, \"total\": 0.0, \"co2_biogenic\": 0.0, \"scope_item\": \"Emissions directes des proc\\u00e9d\\u00e9s hors \\u00e9nergie\"}, {\"assessment_id\": 7071, \"type\": \"D\\u00e9claration\", \"scope_item_id\": 4, \"co2\": 4.0, \"ch4\": 0.0, \"n2o\": 0.0, \"other\": 0.0, \"total\": 4.0, \"co2_biogenic\": 0.0, \"scope_item\": \"Emissions directes fugitives\"}, {\"assessment_id\": 7071, \"type\": \"D\\u00e9claration\", \"scope_item_id\": 5, \"co2\": 0.0, \"ch4\": 0.0, \"n2o\": 0.0, \"other\": 0.0, \"total\": 0.0, \"co2_biogenic\": 0.0, \"scope_item\": \"Emissions issues de la biomasse (sols et for\\u00eats)\"}, {\"assessment_id\": 7071, \"type\": \"D\\u00e9claration\", \"scope_item_id\": 6, \"co2\": null, \"ch4\": null, \"n2o\": null, \"other\": null, \"total\": 44.0, \"co2_biogenic\": 0.0, \"scope_item\": \"Emissions indirectes li\\u00e9es \\u00e0 la consommation d'\\u00e9lectricit\\u00e9\"}, {\"assessment_id\": 7071, \"type\": \"D\\u00e9claration\", \"scope_item_id\": 7, \"co2\": null, \"ch4\": null, \"n2o\": null, \"other\": null, \"total\": 0.0, \"co2_biogenic\": 0.0, \"scope_item\": \"Emissions indirectes li\\u00e9es \\u00e0 la consommation de vapeur, chaleur ou froid\"}]}}, {\"mode\": \"vega-lite\"});\n",
       "</script>"
      ],
      "text/plain": [
       "alt.Chart(...)"
      ]
     },
     "execution_count": 89,
     "metadata": {},
     "output_type": "execute_result"
    }
   ],
   "source": [
    "alt.Chart(loc_emission).mark_bar().encode(\n",
    "        x='scope_item_id',\n",
    "        y='total:Q',\n",
    "        tooltip=[\n",
    "            alt.Tooltip('scope_item', title='scope_item'),\n",
    "        ]\n",
    "        ).properties(\n",
    "                width=500,\n",
    "                height=300\n",
    "                )"
   ]
  },
  {
   "cell_type": "code",
   "execution_count": null,
   "id": "8be01b0a",
   "metadata": {},
   "outputs": [],
   "source": []
  }
 ],
 "metadata": {
  "kernelspec": {
   "display_name": "Python 3.8.5",
   "language": "python",
   "name": "python3"
  },
  "language_info": {
   "codemirror_mode": {
    "name": "ipython",
    "version": 3
   },
   "file_extension": ".py",
   "mimetype": "text/x-python",
   "name": "python",
   "nbconvert_exporter": "python",
   "pygments_lexer": "ipython3",
   "version": "3.8.5"
  },
  "vscode": {
   "interpreter": {
    "hash": "bc895b69e755cdb2d9601c81f5369a2139eccb1bb64c066cd88f550054f4d0ce"
   }
  }
 },
 "nbformat": 4,
 "nbformat_minor": 5
}
